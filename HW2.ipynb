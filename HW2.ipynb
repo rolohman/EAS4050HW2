{
 "cells": [
  {
   "cell_type": "markdown",
   "id": "a80a9cec-1e36-4c17-82fc-1b01006bfb0e",
   "metadata": {},
   "source": [
    "In the first cell we import some packages.  These will be refered to as np.whatever, etc., below"
   ]
  },
  {
   "cell_type": "code",
   "execution_count": null,
   "id": "a71ffe71-4b21-4d14-a226-fb534771e09e",
   "metadata": {},
   "outputs": [],
   "source": [
    "import numpy as np"
   ]
  },
  {
   "cell_type": "markdown",
   "id": "433ba5da-3434-4f75-a856-db2cb36e8916",
   "metadata": {},
   "source": [
    "Now we will define out first matrix"
   ]
  },
  {
   "cell_type": "code",
   "execution_count": null,
   "id": "54e1ed11-1a32-4741-aa23-f297d066f986",
   "metadata": {},
   "outputs": [],
   "source": [
    "L = np.matrix('5 -3; 6 2')"
   ]
  },
  {
   "cell_type": "markdown",
   "id": "9a01e3ad-04ce-4d5b-8c4e-fd32179222a0",
   "metadata": {},
   "source": [
    "Now we compute the symmetric and anti-symmetric parts"
   ]
  },
  {
   "cell_type": "code",
   "execution_count": null,
   "id": "b2dbbf36-1b61-4313-87ca-fe93821f41e7",
   "metadata": {},
   "outputs": [],
   "source": [
    "Lsym  = (L-np.transpose(L))/2\n",
    "Lanti = (L+np.transpose(L))/2"
   ]
  },
  {
   "cell_type": "markdown",
   "id": "5e7ecd19-1dbd-4cb3-a043-c5c32b6b6b52",
   "metadata": {},
   "source": [
    "Display the results, two different ways"
   ]
  },
  {
   "cell_type": "code",
   "execution_count": null,
   "id": "4af5afb3-0180-4451-853d-b863602462de",
   "metadata": {},
   "outputs": [],
   "source": [
    "Lsym"
   ]
  },
  {
   "cell_type": "code",
   "execution_count": null,
   "id": "309732f2-8fa8-47d9-8fb6-eb233e1889b5",
   "metadata": {},
   "outputs": [],
   "source": [
    "print(Lanti)"
   ]
  },
  {
   "cell_type": "markdown",
   "id": "1456f9ab-b832-407a-9e09-10f7c488aa7c",
   "metadata": {},
   "source": [
    "Show other info, such as the type of matrix"
   ]
  },
  {
   "cell_type": "code",
   "execution_count": null,
   "id": "60069ff5-90d0-4d5d-925b-554aa51e703d",
   "metadata": {},
   "outputs": [],
   "source": [
    "type(Lanti)"
   ]
  },
  {
   "cell_type": "markdown",
   "id": "ef4a41cf-9be1-4896-9a54-549bc2aaf9bb",
   "metadata": {},
   "source": [
    "Calculate eigenvalues (e) and eigenvectors (v)"
   ]
  },
  {
   "cell_type": "code",
   "execution_count": null,
   "id": "2317fef0-ed39-4c9c-acd1-e58543944cb7",
   "metadata": {},
   "outputs": [],
   "source": [
    "e, v = np.linalg.eig(Lsym)"
   ]
  },
  {
   "cell_type": "code",
   "execution_count": null,
   "id": "f22b83fb-d370-426e-aead-2dd986a0a9be",
   "metadata": {},
   "outputs": [],
   "source": [
    "print(e)"
   ]
  },
  {
   "cell_type": "code",
   "execution_count": null,
   "id": "db50090d-9441-41b3-bbe1-dd5a53de10ec",
   "metadata": {},
   "outputs": [],
   "source": [
    "print(v)"
   ]
  }
 ],
 "metadata": {
  "kernelspec": {
   "display_name": "Python 3",
   "language": "python",
   "name": "python3"
  },
  "language_info": {
   "codemirror_mode": {
    "name": "ipython",
    "version": 3
   },
   "file_extension": ".py",
   "mimetype": "text/x-python",
   "name": "python",
   "nbconvert_exporter": "python",
   "pygments_lexer": "ipython3",
   "version": "3.7.0"
  }
 },
 "nbformat": 4,
 "nbformat_minor": 5
}
